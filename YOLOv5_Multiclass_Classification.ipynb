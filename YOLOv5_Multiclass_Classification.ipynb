{
  "cells": [
    {
      "cell_type": "markdown",
      "metadata": {
        "id": "7mGmQbAO5pQb"
      },
      "source": [
        "# Setup\n",
        "\n",
        "Clone GitHub [repository](https://github.com/ultralytics/yolov5), install [dependencies](https://github.com/ultralytics/yolov5/blob/master/requirements.txt) and check PyTorch and GPU."
      ]
    },
    {
      "cell_type": "code",
      "execution_count": null,
      "metadata": {
        "colab": {
          "base_uri": "https://localhost:8080/"
        },
        "id": "wbvMlHd_QwMG",
        "outputId": "b16bf401-6feb-4157-a7bc-d552a38f865b"
      },
      "outputs": [
        {
          "output_type": "stream",
          "name": "stderr",
          "text": [
            "YOLOv5 🚀 v7.0-140-g1db9533 Python-3.9.16 torch-2.0.0+cu118 CUDA:0 (Tesla T4, 15102MiB)\n"
          ]
        },
        {
          "output_type": "stream",
          "name": "stdout",
          "text": [
            "Setup complete ✅ (2 CPUs, 12.7 GB RAM, 23.2/78.2 GB disk)\n"
          ]
        }
      ],
      "source": [
        "!git clone https://github.com/ultralytics/yolov5  # clone\n",
        "%cd yolov5\n",
        "%pip install -qr requirements.txt  # install\n",
        "\n",
        "import torch\n",
        "import utils\n",
        "display = utils.notebook_init()  # checks"
      ]
    },
    {
      "cell_type": "code",
      "source": [
        "!unzip -q ../train_data.zip -d ../"
      ],
      "metadata": {
        "id": "Mlvr93nL6Euz"
      },
      "execution_count": null,
      "outputs": []
    },
    {
      "cell_type": "code",
      "source": [
        "!unzip -q ../DD.zip -d ../"
      ],
      "metadata": {
        "id": "scMTJEZWRHaF"
      },
      "execution_count": null,
      "outputs": []
    },
    {
      "cell_type": "markdown",
      "metadata": {
        "id": "4JnkELT0cIJg"
      },
      "source": [
        "# 1. Predict\n",
        "\n",
        "`segment/predict.py` runs YOLOv5 instance segmentation inference on a variety of sources, downloading models automatically from the [latest YOLOv5 release](https://github.com/ultralytics/yolov5/releases), and saving results to `runs/predict`. Example inference sources are:\n",
        "\n",
        "```shell\n",
        "python segment/predict.py --source 0  # webcam\n",
        "                             img.jpg  # image\n",
        "                             vid.mp4  # video\n",
        "                             screen  # screenshot\n",
        "                             path/  # directory\n",
        "                             'path/*.jpg'  # glob\n",
        "                             'https://youtu.be/Zgi9g1ksQHc'  # YouTube\n",
        "                             'rtsp://example.com/media.mp4'  # RTSP, RTMP, HTTP stream\n",
        "```"
      ]
    },
    {
      "cell_type": "code",
      "source": [
        "from google.colab import files"
      ],
      "metadata": {
        "id": "c1hAT1WvNtJW"
      },
      "execution_count": null,
      "outputs": []
    },
    {
      "cell_type": "code",
      "source": [
        "from google.colab import drive\n",
        "drive.mount('/content/drive')"
      ],
      "metadata": {
        "colab": {
          "base_uri": "https://localhost:8080/"
        },
        "id": "5pkHNeaFVQUt",
        "outputId": "93044b95-8da8-4680-99f3-d6322a2b714f"
      },
      "execution_count": null,
      "outputs": [
        {
          "output_type": "stream",
          "name": "stdout",
          "text": [
            "Mounted at /content/drive\n"
          ]
        }
      ]
    },
    {
      "cell_type": "code",
      "source": [
        "files.download('/content/drive/MyDrive/best.pt')"
      ],
      "metadata": {
        "colab": {
          "base_uri": "https://localhost:8080/",
          "height": 34
        },
        "id": "oZTjKv9XVItg",
        "outputId": "2118baef-c4bc-4328-a420-de4633f80b51"
      },
      "execution_count": null,
      "outputs": [
        {
          "output_type": "display_data",
          "data": {
            "text/plain": [
              "<IPython.core.display.Javascript object>"
            ],
            "application/javascript": [
              "\n",
              "    async function download(id, filename, size) {\n",
              "      if (!google.colab.kernel.accessAllowed) {\n",
              "        return;\n",
              "      }\n",
              "      const div = document.createElement('div');\n",
              "      const label = document.createElement('label');\n",
              "      label.textContent = `Downloading \"${filename}\": `;\n",
              "      div.appendChild(label);\n",
              "      const progress = document.createElement('progress');\n",
              "      progress.max = size;\n",
              "      div.appendChild(progress);\n",
              "      document.body.appendChild(div);\n",
              "\n",
              "      const buffers = [];\n",
              "      let downloaded = 0;\n",
              "\n",
              "      const channel = await google.colab.kernel.comms.open(id);\n",
              "      // Send a message to notify the kernel that we're ready.\n",
              "      channel.send({})\n",
              "\n",
              "      for await (const message of channel.messages) {\n",
              "        // Send a message to notify the kernel that we're ready.\n",
              "        channel.send({})\n",
              "        if (message.buffers) {\n",
              "          for (const buffer of message.buffers) {\n",
              "            buffers.push(buffer);\n",
              "            downloaded += buffer.byteLength;\n",
              "            progress.value = downloaded;\n",
              "          }\n",
              "        }\n",
              "      }\n",
              "      const blob = new Blob(buffers, {type: 'application/binary'});\n",
              "      const a = document.createElement('a');\n",
              "      a.href = window.URL.createObjectURL(blob);\n",
              "      a.download = filename;\n",
              "      div.appendChild(a);\n",
              "      a.click();\n",
              "      div.remove();\n",
              "    }\n",
              "  "
            ]
          },
          "metadata": {}
        },
        {
          "output_type": "display_data",
          "data": {
            "text/plain": [
              "<IPython.core.display.Javascript object>"
            ],
            "application/javascript": [
              "download(\"download_71c24e94-4fab-43a2-b4b8-e5f77482f793\", \"best.pt\", 173125249)"
            ]
          },
          "metadata": {}
        }
      ]
    },
    {
      "cell_type": "code",
      "source": [
        "import imageio\n",
        "import os\n",
        "\n",
        "def create_gif(image_folder, gif_name):\n",
        "    images = []\n",
        "    filenames = sorted(os.listdir(image_folder))\n",
        "    for filename in filenames:\n",
        "        image_path = os.path.join(image_folder, filename)\n",
        "        images.append(imageio.imread(image_path))\n",
        "    imageio.mimsave(gif_name, images, fps=1)\n",
        "\n",
        "image_folder = '/content/DD'\n",
        "gif_name = '/content/animated.gif'\n",
        "create_gif(image_folder, gif_name)"
      ],
      "metadata": {
        "id": "HfMrTmyRPX1_"
      },
      "execution_count": null,
      "outputs": []
    },
    {
      "cell_type": "code",
      "execution_count": null,
      "metadata": {
        "colab": {
          "base_uri": "https://localhost:8080/"
        },
        "id": "zR9ZbuQCH7FX",
        "outputId": "93c5d32d-46cb-49da-fdb4-864560310db8"
      },
      "outputs": [
        {
          "output_type": "stream",
          "name": "stdout",
          "text": [
            "\u001b[34m\u001b[1mdetect: \u001b[0mweights=['/content/drive/MyDrive/best.pt'], source=../20220508.00.Indian.IRImage.png, data=data/coco128.yaml, imgsz=[640, 640], conf_thres=0.1, iou_thres=0.45, max_det=1000, device=, view_img=False, save_txt=False, save_conf=False, save_crop=False, nosave=False, classes=None, agnostic_nms=False, augment=False, visualize=False, update=False, project=runs/detect, name=exp, exist_ok=False, line_thickness=3, hide_labels=False, hide_conf=False, half=False, dnn=False, vid_stride=1\n",
            "YOLOv5 🚀 v7.0-140-g1db9533 Python-3.9.16 torch-2.0.0+cu118 CUDA:0 (Tesla T4, 15102MiB)\n",
            "\n",
            "Fusing layers... \n",
            "Model summary: 322 layers, 86193601 parameters, 0 gradients, 203.8 GFLOPs\n",
            "image 1/1 /content/20220508.00.Indian.IRImage.png: 416x640 1 CS, 67.8ms\n",
            "Speed: 0.5ms pre-process, 67.8ms inference, 102.3ms NMS per image at shape (1, 3, 640, 640)\n",
            "Results saved to \u001b[1mruns/detect/exp24\u001b[0m\n"
          ]
        }
      ],
      "source": [
        "#!python segment/predict.py --weights yolov5s-seg.pt --img 640 --conf 0.25 --source data/images\n",
        "\n",
        "#!python detect.py --weights runs/train/exp2/weights/best.pt --img 640 --conf 0.10 --source ../animated.gif\n",
        "!python detect.py --weights /content/drive/MyDrive/best.pt --img 640 --conf 0.10 --source ../20220508.00.Indian.IRImage.png\n",
        "#display.Image(filename='runs/predict-seg/exp/zidane.jpg', width=600)"
      ]
    },
    {
      "cell_type": "markdown",
      "metadata": {
        "id": "0eq1SMWl6Sfn"
      },
      "source": [
        "# 2. Validate\n",
        "Validate a model's accuracy on the [COCO](https://cocodataset.org/#home) dataset's `val` or `test` splits. Models are downloaded automatically from the [latest YOLOv5 release](https://github.com/ultralytics/yolov5/releases). To show results by class use the `--verbose` flag."
      ]
    },
    {
      "cell_type": "code",
      "execution_count": null,
      "metadata": {
        "colab": {
          "base_uri": "https://localhost:8080/"
        },
        "id": "WQPtK1QYVaD_",
        "outputId": "9d751d8c-bee8-4339-cf30-9854ca530449"
      },
      "outputs": [
        {
          "output_type": "stream",
          "name": "stdout",
          "text": [
            "Downloading https://github.com/ultralytics/yolov5/releases/download/v1.0/coco2017labels-segments.zip  ...\n",
            "Downloading http://images.cocodataset.org/zips/val2017.zip ...\n",
            "######################################################################## 100.0%\n",
            "######################################################################## 100.0%\n"
          ]
        }
      ],
      "source": [
        "# Download COCO val\n",
        "!bash data/scripts/get_coco.sh --val --segments  # download (780M - 5000 images)"
      ]
    },
    {
      "cell_type": "code",
      "execution_count": null,
      "metadata": {
        "colab": {
          "base_uri": "https://localhost:8080/"
        },
        "id": "X58w8JLpMnjH",
        "outputId": "a140d67a-02da-479e-9ddb-7d54bf9e407a"
      },
      "outputs": [
        {
          "output_type": "stream",
          "name": "stdout",
          "text": [
            "\u001b[34m\u001b[1msegment/val: \u001b[0mdata=/content/yolov5/data/coco.yaml, weights=['yolov5s-seg.pt'], batch_size=32, imgsz=640, conf_thres=0.001, iou_thres=0.6, max_det=300, task=val, device=, workers=8, single_cls=False, augment=False, verbose=False, save_txt=False, save_hybrid=False, save_conf=False, save_json=False, project=runs/val-seg, name=exp, exist_ok=False, half=True, dnn=False\n",
            "YOLOv5 🚀 v7.0-2-gc9d47ae Python-3.7.15 torch-1.12.1+cu113 CUDA:0 (Tesla T4, 15110MiB)\n",
            "\n",
            "Fusing layers... \n",
            "YOLOv5s-seg summary: 224 layers, 7611485 parameters, 0 gradients, 26.4 GFLOPs\n",
            "\u001b[34m\u001b[1mval: \u001b[0mScanning /content/datasets/coco/val2017... 4952 images, 48 backgrounds, 0 corrupt: 100% 5000/5000 [00:03<00:00, 1361.31it/s]\n",
            "\u001b[34m\u001b[1mval: \u001b[0mNew cache created: /content/datasets/coco/val2017.cache\n",
            "                 Class     Images  Instances      Box(P          R      mAP50  mAP50-95)     Mask(P          R      mAP50  mAP50-95): 100% 157/157 [01:54<00:00,  1.37it/s]\n",
            "                   all       5000      36335      0.673      0.517      0.566      0.373      0.672       0.49      0.532      0.319\n",
            "Speed: 0.6ms pre-process, 4.4ms inference, 2.9ms NMS per image at shape (32, 3, 640, 640)\n",
            "Results saved to \u001b[1mruns/val-seg/exp\u001b[0m\n"
          ]
        }
      ],
      "source": [
        "# Validate YOLOv5s-seg on COCO val\n",
        "!python segment/val.py --weights yolov5s-seg.pt --data coco.yaml --img 640 --half"
      ]
    },
    {
      "cell_type": "code",
      "execution_count": null,
      "metadata": {
        "id": "i3oKtE4g-aNn"
      },
      "outputs": [],
      "source": [
        "#@title Select YOLOv5 🚀 logger {run: 'auto'}\n",
        "logger = 'TensorBoard' #@param ['TensorBoard', 'Comet', 'ClearML']\n",
        "\n",
        "if logger == 'TensorBoard':\n",
        "  %load_ext tensorboard\n",
        "  %tensorboard --logdir runs/train-seg\n",
        "elif logger == 'Comet':\n",
        "  %pip install -q comet_ml\n",
        "  import comet_ml; comet_ml.init()\n",
        "elif logger == 'ClearML':\n",
        "  import clearml; clearml.browser_login()"
      ]
    },
    {
      "cell_type": "code",
      "execution_count": null,
      "metadata": {
        "colab": {
          "base_uri": "https://localhost:8080/"
        },
        "id": "1NcFxRcFdJ_O",
        "outputId": "957c5c8a-07f1-47ca-bc45-f8443b073ed7"
      },
      "outputs": [
        {
          "output_type": "stream",
          "name": "stdout",
          "text": [
            "\u001b[34m\u001b[1mtrain: \u001b[0mweights=yolov5x.pt, cfg=, data=custom_data.yaml, hyp=data/hyps/hyp.scratch-low.yaml, epochs=70, batch_size=2, imgsz=640, rect=False, resume=False, nosave=True, noval=False, noautoanchor=False, noplots=False, evolve=None, bucket=, cache=ram, image_weights=False, device=, multi_scale=False, single_cls=False, optimizer=SGD, sync_bn=False, workers=8, project=runs/train, name=exp, exist_ok=False, quad=False, cos_lr=False, label_smoothing=0.0, patience=100, freeze=[0], save_period=-1, seed=0, local_rank=-1, entity=None, upload_dataset=False, bbox_interval=-1, artifact_alias=latest\n",
            "remote: Enumerating objects: 11, done.\u001b[K\n",
            "remote: Counting objects: 100% (11/11), done.\u001b[K\n",
            "remote: Compressing objects: 100% (11/11), done.\u001b[K\n",
            "remote: Total 11 (delta 3), reused 0 (delta 0), pack-reused 0\u001b[K\n",
            "Unpacking objects: 100% (11/11), 4.73 KiB | 2.37 MiB/s, done.\n",
            "From https://github.com/ultralytics/yolov5\n",
            "   cec1b9b..a270b4f  master     -> origin/master\n",
            "\u001b[34m\u001b[1mgithub: \u001b[0m⚠️ YOLOv5 is out of date by 3 commits. Use `git pull` or `git clone https://github.com/ultralytics/yolov5` to update.\n",
            "YOLOv5 🚀 v7.0-82-gcec1b9b Python-3.8.10 torch-1.13.1+cu116 CUDA:0 (Tesla T4, 15110MiB)\n",
            "\n",
            "\u001b[34m\u001b[1mhyperparameters: \u001b[0mlr0=0.01, lrf=0.01, momentum=0.937, weight_decay=0.0005, warmup_epochs=3.0, warmup_momentum=0.8, warmup_bias_lr=0.1, box=0.05, cls=0.5, cls_pw=1.0, obj=1.0, obj_pw=1.0, iou_t=0.2, anchor_t=4.0, fl_gamma=0.0, hsv_h=0.015, hsv_s=0.7, hsv_v=0.4, degrees=0.0, translate=0.1, scale=0.5, shear=0.0, perspective=0.0, flipud=0.0, fliplr=0.5, mosaic=1.0, mixup=0.0, copy_paste=0.0\n",
            "\u001b[34m\u001b[1mClearML: \u001b[0mrun 'pip install clearml' to automatically track, visualize and remotely train YOLOv5 🚀 in ClearML\n",
            "\u001b[34m\u001b[1mComet: \u001b[0mrun 'pip install comet_ml' to automatically track and visualize YOLOv5 🚀 runs in Comet\n",
            "\u001b[34m\u001b[1mTensorBoard: \u001b[0mStart with 'tensorboard --logdir runs/train', view at http://localhost:6006/\n",
            "Overriding model.yaml nc=80 with nc=4\n",
            "\n",
            "                 from  n    params  module                                  arguments                     \n",
            "  0                -1  1      8800  models.common.Conv                      [3, 80, 6, 2, 2]              \n",
            "  1                -1  1    115520  models.common.Conv                      [80, 160, 3, 2]               \n",
            "  2                -1  4    309120  models.common.C3                        [160, 160, 4]                 \n",
            "  3                -1  1    461440  models.common.Conv                      [160, 320, 3, 2]              \n",
            "  4                -1  8   2259200  models.common.C3                        [320, 320, 8]                 \n",
            "  5                -1  1   1844480  models.common.Conv                      [320, 640, 3, 2]              \n",
            "  6                -1 12  13125120  models.common.C3                        [640, 640, 12]                \n",
            "  7                -1  1   7375360  models.common.Conv                      [640, 1280, 3, 2]             \n",
            "  8                -1  4  19676160  models.common.C3                        [1280, 1280, 4]               \n",
            "  9                -1  1   4099840  models.common.SPPF                      [1280, 1280, 5]               \n",
            " 10                -1  1    820480  models.common.Conv                      [1280, 640, 1, 1]             \n",
            " 11                -1  1         0  torch.nn.modules.upsampling.Upsample    [None, 2, 'nearest']          \n",
            " 12           [-1, 6]  1         0  models.common.Concat                    [1]                           \n",
            " 13                -1  4   5332480  models.common.C3                        [1280, 640, 4, False]         \n",
            " 14                -1  1    205440  models.common.Conv                      [640, 320, 1, 1]              \n",
            " 15                -1  1         0  torch.nn.modules.upsampling.Upsample    [None, 2, 'nearest']          \n",
            " 16           [-1, 4]  1         0  models.common.Concat                    [1]                           \n",
            " 17                -1  4   1335040  models.common.C3                        [640, 320, 4, False]          \n",
            " 18                -1  1    922240  models.common.Conv                      [320, 320, 3, 2]              \n",
            " 19          [-1, 14]  1         0  models.common.Concat                    [1]                           \n",
            " 20                -1  4   4922880  models.common.C3                        [640, 640, 4, False]          \n",
            " 21                -1  1   3687680  models.common.Conv                      [640, 640, 3, 2]              \n",
            " 22          [-1, 10]  1         0  models.common.Concat                    [1]                           \n",
            " 23                -1  4  19676160  models.common.C3                        [1280, 1280, 4, False]        \n",
            " 24      [17, 20, 23]  1     60561  models.yolo.Detect                      [4, [[10, 13, 16, 30, 33, 23], [30, 61, 62, 45, 59, 119], [116, 90, 156, 198, 373, 326]], [320, 640, 1280]]\n",
            "Model summary: 445 layers, 86238001 parameters, 86238001 gradients, 204.7 GFLOPs\n",
            "\n",
            "Transferred 739/745 items from yolov5x.pt\n",
            "\u001b[34m\u001b[1mAMP: \u001b[0mchecks passed ✅\n",
            "\u001b[34m\u001b[1moptimizer:\u001b[0m SGD(lr=0.01) with parameter groups 123 weight(decay=0.0), 126 weight(decay=0.0005), 126 bias\n",
            "\u001b[34m\u001b[1malbumentations: \u001b[0mBlur(p=0.01, blur_limit=(3, 7)), MedianBlur(p=0.01, blur_limit=(3, 7)), ToGray(p=0.01), CLAHE(p=0.01, clip_limit=(1, 4.0), tile_grid_size=(8, 8))\n",
            "\u001b[34m\u001b[1mtrain: \u001b[0mScanning /content/train_data/labels/train.cache... 1154 images, 0 backgrounds, 0 corrupt: 100% 1154/1154 [00:00<?, ?it/s]\n",
            "\u001b[34m\u001b[1mtrain: \u001b[0mCaching images (1.3GB ram): 100% 1154/1154 [00:03<00:00, 380.94it/s]\n",
            "\u001b[34m\u001b[1mval: \u001b[0mScanning /content/train_data/labels/val.cache... 290 images, 0 backgrounds, 0 corrupt: 100% 290/290 [00:00<?, ?it/s]\n",
            "\u001b[34m\u001b[1mval: \u001b[0mCaching images (0.3GB ram): 100% 290/290 [00:01<00:00, 215.49it/s]\n",
            "\n",
            "\u001b[34m\u001b[1mAutoAnchor: \u001b[0m3.03 anchors/target, 1.000 Best Possible Recall (BPR). Current anchors are a good fit to dataset ✅\n",
            "Plotting labels to runs/train/exp3/labels.jpg... \n",
            "Image sizes 640 train, 640 val\n",
            "Using 2 dataloader workers\n",
            "Logging results to \u001b[1mruns/train/exp3\u001b[0m\n",
            "Starting training for 70 epochs...\n",
            "\n",
            "      Epoch    GPU_mem   box_loss   obj_loss   cls_loss  Instances       Size\n",
            "       0/69      3.08G    0.04746    0.02636    0.02817          3        640: 100% 577/577 [02:06<00:00,  4.57it/s]\n",
            "                 Class     Images  Instances          P          R      mAP50   mAP50-95: 100% 73/73 [00:11<00:00,  6.37it/s]\n",
            "                   all        290        290      0.127      0.304      0.124      0.045\n",
            "\n",
            "      Epoch    GPU_mem   box_loss   obj_loss   cls_loss  Instances       Size\n",
            "       1/69       3.5G    0.03424    0.01855    0.02611          3        640: 100% 577/577 [01:56<00:00,  4.95it/s]\n",
            "                 Class     Images  Instances          P          R      mAP50   mAP50-95: 100% 73/73 [00:11<00:00,  6.38it/s]\n",
            "                   all        290        290      0.144      0.697      0.228       0.11\n",
            "\n",
            "      Epoch    GPU_mem   box_loss   obj_loss   cls_loss  Instances       Size\n",
            "       2/69      3.51G     0.0322    0.01537    0.02582          3        640: 100% 577/577 [01:55<00:00,  4.99it/s]\n",
            "                 Class     Images  Instances          P          R      mAP50   mAP50-95: 100% 73/73 [00:11<00:00,  6.41it/s]\n",
            "                   all        290        290      0.222      0.871      0.304      0.146\n",
            "\n",
            "      Epoch    GPU_mem   box_loss   obj_loss   cls_loss  Instances       Size\n",
            "       3/69      3.51G     0.0297    0.01482    0.02565          4        640: 100% 577/577 [01:58<00:00,  4.88it/s]\n",
            "                 Class     Images  Instances          P          R      mAP50   mAP50-95: 100% 73/73 [00:11<00:00,  6.43it/s]\n",
            "                   all        290        290      0.241      0.933      0.315      0.156\n",
            "\n",
            "      Epoch    GPU_mem   box_loss   obj_loss   cls_loss  Instances       Size\n",
            "       4/69      3.51G    0.02647    0.01423    0.02494          3        640: 100% 577/577 [01:53<00:00,  5.08it/s]\n",
            "                 Class     Images  Instances          P          R      mAP50   mAP50-95: 100% 73/73 [00:11<00:00,  6.37it/s]\n",
            "                   all        290        290      0.273       0.88      0.406      0.208\n",
            "\n",
            "      Epoch    GPU_mem   box_loss   obj_loss   cls_loss  Instances       Size\n",
            "       5/69      3.51G    0.02492    0.01406     0.0247          6        640: 100% 577/577 [01:55<00:00,  4.98it/s]\n",
            "                 Class     Images  Instances          P          R      mAP50   mAP50-95: 100% 73/73 [00:11<00:00,  6.38it/s]\n",
            "                   all        290        290      0.302      0.835      0.407      0.153\n",
            "\n",
            "      Epoch    GPU_mem   box_loss   obj_loss   cls_loss  Instances       Size\n",
            "       6/69      3.51G    0.02428    0.01365    0.02377          5        640: 100% 577/577 [01:55<00:00,  5.01it/s]\n",
            "                 Class     Images  Instances          P          R      mAP50   mAP50-95: 100% 73/73 [00:11<00:00,  6.36it/s]\n",
            "                   all        290        290      0.361      0.757      0.455      0.258\n",
            "\n",
            "      Epoch    GPU_mem   box_loss   obj_loss   cls_loss  Instances       Size\n",
            "       7/69      3.51G    0.02313    0.01347    0.02362          2        640: 100% 577/577 [01:56<00:00,  4.97it/s]\n",
            "                 Class     Images  Instances          P          R      mAP50   mAP50-95: 100% 73/73 [00:11<00:00,  6.44it/s]\n",
            "                   all        290        290      0.341        0.8      0.474      0.232\n",
            "\n",
            "      Epoch    GPU_mem   box_loss   obj_loss   cls_loss  Instances       Size\n",
            "       8/69      3.51G    0.02281    0.01335    0.02328          2        640: 100% 577/577 [01:54<00:00,  5.03it/s]\n",
            "                 Class     Images  Instances          P          R      mAP50   mAP50-95: 100% 73/73 [00:11<00:00,  6.43it/s]\n",
            "                   all        290        290      0.383       0.77      0.476      0.244\n",
            "\n",
            "      Epoch    GPU_mem   box_loss   obj_loss   cls_loss  Instances       Size\n",
            "       9/69      3.51G    0.02158    0.01319    0.02256          5        640: 100% 577/577 [01:55<00:00,  5.00it/s]\n",
            "                 Class     Images  Instances          P          R      mAP50   mAP50-95: 100% 73/73 [00:11<00:00,  6.40it/s]\n",
            "                   all        290        290      0.352      0.851      0.505      0.274\n",
            "\n",
            "      Epoch    GPU_mem   box_loss   obj_loss   cls_loss  Instances       Size\n",
            "      10/69      3.51G    0.02135    0.01323     0.0218          5        640: 100% 577/577 [01:54<00:00,  5.05it/s]\n",
            "                 Class     Images  Instances          P          R      mAP50   mAP50-95: 100% 73/73 [00:11<00:00,  6.43it/s]\n",
            "                   all        290        290      0.398      0.759      0.487      0.253\n",
            "\n",
            "      Epoch    GPU_mem   box_loss   obj_loss   cls_loss  Instances       Size\n",
            "      11/69      3.51G    0.02092    0.01291    0.02227          6        640: 100% 577/577 [01:54<00:00,  5.02it/s]\n",
            "                 Class     Images  Instances          P          R      mAP50   mAP50-95: 100% 73/73 [00:11<00:00,  6.47it/s]\n",
            "                   all        290        290      0.378      0.885      0.551      0.289\n",
            "\n",
            "      Epoch    GPU_mem   box_loss   obj_loss   cls_loss  Instances       Size\n",
            "      12/69      3.51G     0.0209    0.01294    0.02212          5        640: 100% 577/577 [01:54<00:00,  5.05it/s]\n",
            "                 Class     Images  Instances          P          R      mAP50   mAP50-95: 100% 73/73 [00:11<00:00,  6.44it/s]\n",
            "                   all        290        290      0.388      0.836      0.523       0.26\n",
            "\n",
            "      Epoch    GPU_mem   box_loss   obj_loss   cls_loss  Instances       Size\n",
            "      13/69      3.51G    0.02006    0.01272    0.02174          6        640: 100% 577/577 [01:55<00:00,  5.01it/s]\n",
            "                 Class     Images  Instances          P          R      mAP50   mAP50-95: 100% 73/73 [00:11<00:00,  6.41it/s]\n",
            "                   all        290        290      0.379      0.752      0.459       0.23\n",
            "\n",
            "      Epoch    GPU_mem   box_loss   obj_loss   cls_loss  Instances       Size\n",
            "      14/69      3.51G    0.02078     0.0127    0.02139          2        640: 100% 577/577 [01:54<00:00,  5.05it/s]\n",
            "                 Class     Images  Instances          P          R      mAP50   mAP50-95: 100% 73/73 [00:11<00:00,  6.43it/s]\n",
            "                   all        290        290      0.416      0.789      0.511      0.253\n",
            "\n",
            "      Epoch    GPU_mem   box_loss   obj_loss   cls_loss  Instances       Size\n",
            "      15/69      3.51G    0.02032    0.01292    0.02098          4        640: 100% 577/577 [01:54<00:00,  5.03it/s]\n",
            "                 Class     Images  Instances          P          R      mAP50   mAP50-95: 100% 73/73 [00:11<00:00,  6.40it/s]\n",
            "                   all        290        290      0.418      0.832      0.564      0.313\n",
            "\n",
            "      Epoch    GPU_mem   box_loss   obj_loss   cls_loss  Instances       Size\n",
            "      16/69      3.51G    0.02066    0.01251    0.02127          4        640: 100% 577/577 [01:53<00:00,  5.06it/s]\n",
            "                 Class     Images  Instances          P          R      mAP50   mAP50-95: 100% 73/73 [00:11<00:00,  6.44it/s]\n",
            "                   all        290        290      0.421      0.778      0.547      0.311\n",
            "\n",
            "      Epoch    GPU_mem   box_loss   obj_loss   cls_loss  Instances       Size\n",
            "      17/69      3.51G    0.01954    0.01237    0.02036          8        640: 100% 577/577 [01:56<00:00,  4.97it/s]\n",
            "                 Class     Images  Instances          P          R      mAP50   mAP50-95: 100% 73/73 [00:11<00:00,  6.39it/s]\n",
            "                   all        290        290      0.427      0.793      0.524      0.266\n",
            "\n",
            "      Epoch    GPU_mem   box_loss   obj_loss   cls_loss  Instances       Size\n",
            "      18/69      3.51G    0.01936    0.01232     0.0193          6        640: 100% 577/577 [01:54<00:00,  5.03it/s]\n",
            "                 Class     Images  Instances          P          R      mAP50   mAP50-95: 100% 73/73 [00:11<00:00,  6.37it/s]\n",
            "                   all        290        290      0.413      0.864      0.533       0.26\n",
            "\n",
            "      Epoch    GPU_mem   box_loss   obj_loss   cls_loss  Instances       Size\n",
            "      19/69      3.51G    0.01978    0.01235    0.01899          3        640: 100% 577/577 [01:54<00:00,  5.04it/s]\n",
            "                 Class     Images  Instances          P          R      mAP50   mAP50-95: 100% 73/73 [00:11<00:00,  6.45it/s]\n",
            "                   all        290        290       0.42      0.808      0.541      0.287\n",
            "\n",
            "      Epoch    GPU_mem   box_loss   obj_loss   cls_loss  Instances       Size\n",
            "      20/69      3.51G    0.01898    0.01157    0.01981          2        640: 100% 577/577 [01:52<00:00,  5.15it/s]\n",
            "                 Class     Images  Instances          P          R      mAP50   mAP50-95: 100% 73/73 [00:11<00:00,  6.43it/s]\n",
            "                   all        290        290      0.472      0.813      0.599      0.332\n",
            "\n",
            "      Epoch    GPU_mem   box_loss   obj_loss   cls_loss  Instances       Size\n",
            "      21/69      3.51G    0.01872    0.01226    0.01998          3        640: 100% 577/577 [01:54<00:00,  5.03it/s]\n",
            "                 Class     Images  Instances          P          R      mAP50   mAP50-95: 100% 73/73 [00:11<00:00,  6.44it/s]\n",
            "                   all        290        290      0.447      0.772      0.551      0.274\n",
            "\n",
            "      Epoch    GPU_mem   box_loss   obj_loss   cls_loss  Instances       Size\n",
            "      22/69      3.51G    0.01852    0.01185    0.01881          6        640: 100% 577/577 [01:54<00:00,  5.05it/s]\n",
            "                 Class     Images  Instances          P          R      mAP50   mAP50-95: 100% 73/73 [00:11<00:00,  6.44it/s]\n",
            "                   all        290        290      0.458      0.804      0.583       0.31\n",
            "\n",
            "      Epoch    GPU_mem   box_loss   obj_loss   cls_loss  Instances       Size\n",
            "      23/69      3.51G    0.01855    0.01179    0.01857          4        640: 100% 577/577 [01:54<00:00,  5.03it/s]\n",
            "                 Class     Images  Instances          P          R      mAP50   mAP50-95: 100% 73/73 [00:11<00:00,  6.42it/s]\n",
            "                   all        290        290       0.45      0.768      0.558      0.303\n",
            "\n",
            "      Epoch    GPU_mem   box_loss   obj_loss   cls_loss  Instances       Size\n",
            "      24/69      3.51G    0.01859    0.01194    0.01897          2        640: 100% 577/577 [01:53<00:00,  5.09it/s]\n",
            "                 Class     Images  Instances          P          R      mAP50   mAP50-95: 100% 73/73 [00:11<00:00,  6.38it/s]\n",
            "                   all        290        290      0.472      0.703      0.593      0.337\n",
            "\n",
            "      Epoch    GPU_mem   box_loss   obj_loss   cls_loss  Instances       Size\n",
            "      25/69      3.51G    0.01839    0.01187    0.01853          5        640: 100% 577/577 [01:53<00:00,  5.10it/s]\n",
            "                 Class     Images  Instances          P          R      mAP50   mAP50-95: 100% 73/73 [00:11<00:00,  6.47it/s]\n",
            "                   all        290        290      0.465      0.741      0.582      0.325\n",
            "\n",
            "      Epoch    GPU_mem   box_loss   obj_loss   cls_loss  Instances       Size\n",
            "      26/69      3.51G    0.01813    0.01162    0.01893          5        640: 100% 577/577 [01:52<00:00,  5.13it/s]\n",
            "                 Class     Images  Instances          P          R      mAP50   mAP50-95: 100% 73/73 [00:11<00:00,  6.39it/s]\n",
            "                   all        290        290      0.529      0.756        0.6      0.331\n",
            "\n",
            "      Epoch    GPU_mem   box_loss   obj_loss   cls_loss  Instances       Size\n",
            "      27/69      3.51G     0.0187    0.01204    0.01813          4        640: 100% 577/577 [01:52<00:00,  5.13it/s]\n",
            "                 Class     Images  Instances          P          R      mAP50   mAP50-95: 100% 73/73 [00:11<00:00,  6.46it/s]\n",
            "                   all        290        290      0.502      0.771      0.606       0.34\n",
            "\n",
            "      Epoch    GPU_mem   box_loss   obj_loss   cls_loss  Instances       Size\n",
            "      28/69      3.51G    0.01751     0.0112    0.01682          8        640: 100% 577/577 [01:52<00:00,  5.12it/s]\n",
            "                 Class     Images  Instances          P          R      mAP50   mAP50-95: 100% 73/73 [00:11<00:00,  6.36it/s]\n",
            "                   all        290        290      0.507      0.783      0.596      0.312\n",
            "\n",
            "      Epoch    GPU_mem   box_loss   obj_loss   cls_loss  Instances       Size\n",
            "      29/69      3.51G    0.01752    0.01123    0.01753          4        640: 100% 577/577 [01:53<00:00,  5.10it/s]\n",
            "                 Class     Images  Instances          P          R      mAP50   mAP50-95: 100% 73/73 [00:11<00:00,  6.50it/s]\n",
            "                   all        290        290       0.52       0.77      0.617      0.324\n",
            "\n",
            "      Epoch    GPU_mem   box_loss   obj_loss   cls_loss  Instances       Size\n",
            "      30/69      3.51G    0.01751    0.01152    0.01717          7        640: 100% 577/577 [01:52<00:00,  5.12it/s]\n",
            "                 Class     Images  Instances          P          R      mAP50   mAP50-95: 100% 73/73 [00:11<00:00,  6.40it/s]\n",
            "                   all        290        290      0.582      0.775      0.635      0.355\n",
            "\n",
            "      Epoch    GPU_mem   box_loss   obj_loss   cls_loss  Instances       Size\n",
            "      31/69      3.51G    0.01781    0.01144    0.01725          2        640: 100% 577/577 [01:53<00:00,  5.09it/s]\n",
            "                 Class     Images  Instances          P          R      mAP50   mAP50-95: 100% 73/73 [00:11<00:00,  6.51it/s]\n",
            "                   all        290        290      0.495      0.748      0.603      0.338\n",
            "\n",
            "      Epoch    GPU_mem   box_loss   obj_loss   cls_loss  Instances       Size\n",
            "      32/69      3.51G    0.01718    0.01089    0.01699          2        640: 100% 577/577 [01:53<00:00,  5.09it/s]\n",
            "                 Class     Images  Instances          P          R      mAP50   mAP50-95: 100% 73/73 [00:11<00:00,  6.50it/s]\n",
            "                   all        290        290      0.471      0.765      0.578      0.292\n",
            "\n",
            "      Epoch    GPU_mem   box_loss   obj_loss   cls_loss  Instances       Size\n",
            "      33/69      3.51G      0.017     0.0112    0.01682          5        640: 100% 577/577 [01:54<00:00,  5.04it/s]\n",
            "                 Class     Images  Instances          P          R      mAP50   mAP50-95: 100% 73/73 [00:11<00:00,  6.46it/s]\n",
            "                   all        290        290      0.545      0.708       0.62      0.334\n",
            "\n",
            "      Epoch    GPU_mem   box_loss   obj_loss   cls_loss  Instances       Size\n",
            "      34/69      3.51G    0.01706    0.01105     0.0162          1        640: 100% 577/577 [01:52<00:00,  5.11it/s]\n",
            "                 Class     Images  Instances          P          R      mAP50   mAP50-95: 100% 73/73 [00:11<00:00,  6.48it/s]\n",
            "                   all        290        290      0.541      0.824      0.648      0.366\n",
            "\n",
            "      Epoch    GPU_mem   box_loss   obj_loss   cls_loss  Instances       Size\n",
            "      35/69      3.51G    0.01663    0.01093    0.01514          4        640: 100% 577/577 [01:53<00:00,  5.09it/s]\n",
            "                 Class     Images  Instances          P          R      mAP50   mAP50-95: 100% 73/73 [00:11<00:00,  6.48it/s]\n",
            "                   all        290        290      0.561      0.747      0.638      0.363\n",
            "\n",
            "      Epoch    GPU_mem   box_loss   obj_loss   cls_loss  Instances       Size\n",
            "      36/69      3.51G    0.01682    0.01082    0.01441          2        640: 100% 577/577 [01:52<00:00,  5.13it/s]\n",
            "                 Class     Images  Instances          P          R      mAP50   mAP50-95: 100% 73/73 [00:11<00:00,  6.48it/s]\n",
            "                   all        290        290      0.506      0.702      0.592      0.327\n",
            "\n",
            "      Epoch    GPU_mem   box_loss   obj_loss   cls_loss  Instances       Size\n",
            "      37/69      3.51G    0.01651    0.01091    0.01501          2        640: 100% 577/577 [01:53<00:00,  5.09it/s]\n",
            "                 Class     Images  Instances          P          R      mAP50   mAP50-95: 100% 73/73 [00:11<00:00,  6.46it/s]\n",
            "                   all        290        290      0.557      0.751      0.622      0.333\n",
            "\n",
            "      Epoch    GPU_mem   box_loss   obj_loss   cls_loss  Instances       Size\n",
            "      38/69      3.51G    0.01589    0.01058    0.01458          6        640: 100% 577/577 [01:53<00:00,  5.10it/s]\n",
            "                 Class     Images  Instances          P          R      mAP50   mAP50-95: 100% 73/73 [00:11<00:00,  6.48it/s]\n",
            "                   all        290        290      0.577      0.707      0.642      0.353\n",
            "\n",
            "      Epoch    GPU_mem   box_loss   obj_loss   cls_loss  Instances       Size\n",
            "      39/69      3.51G    0.01651    0.01079    0.01442          6        640: 100% 577/577 [01:54<00:00,  5.05it/s]\n",
            "                 Class     Images  Instances          P          R      mAP50   mAP50-95: 100% 73/73 [00:11<00:00,  6.49it/s]\n",
            "                   all        290        290       0.57      0.758      0.662      0.358\n",
            "\n",
            "      Epoch    GPU_mem   box_loss   obj_loss   cls_loss  Instances       Size\n",
            "      40/69      3.51G    0.01631    0.01075    0.01378          5        640: 100% 577/577 [01:53<00:00,  5.09it/s]\n",
            "                 Class     Images  Instances          P          R      mAP50   mAP50-95: 100% 73/73 [00:11<00:00,  6.45it/s]\n",
            "                   all        290        290      0.594      0.669      0.651      0.354\n",
            "\n",
            "      Epoch    GPU_mem   box_loss   obj_loss   cls_loss  Instances       Size\n",
            "      41/69      3.51G    0.01603    0.01066    0.01386          3        640: 100% 577/577 [01:53<00:00,  5.10it/s]\n",
            "                 Class     Images  Instances          P          R      mAP50   mAP50-95: 100% 73/73 [00:11<00:00,  6.51it/s]\n",
            "                   all        290        290      0.604      0.742      0.697       0.38\n",
            "\n",
            "      Epoch    GPU_mem   box_loss   obj_loss   cls_loss  Instances       Size\n",
            "      42/69      3.51G    0.01625    0.01087    0.01338          2        640: 100% 577/577 [01:52<00:00,  5.15it/s]\n",
            "                 Class     Images  Instances          P          R      mAP50   mAP50-95: 100% 73/73 [00:11<00:00,  6.52it/s]\n",
            "                   all        290        290      0.546      0.747      0.661      0.363\n",
            "\n",
            "      Epoch    GPU_mem   box_loss   obj_loss   cls_loss  Instances       Size\n",
            "      43/69      3.51G    0.01555    0.01036    0.01346          5        640: 100% 577/577 [01:52<00:00,  5.11it/s]\n",
            "                 Class     Images  Instances          P          R      mAP50   mAP50-95: 100% 73/73 [00:11<00:00,  6.54it/s]\n",
            "                   all        290        290      0.625       0.69      0.676      0.366\n",
            "\n",
            "      Epoch    GPU_mem   box_loss   obj_loss   cls_loss  Instances       Size\n",
            "      44/69      3.51G    0.01582    0.01045    0.01336          5        640: 100% 577/577 [01:51<00:00,  5.15it/s]\n",
            "                 Class     Images  Instances          P          R      mAP50   mAP50-95: 100% 73/73 [00:11<00:00,  6.50it/s]\n",
            "                   all        290        290      0.661      0.688      0.709      0.412\n",
            "\n",
            "      Epoch    GPU_mem   box_loss   obj_loss   cls_loss  Instances       Size\n",
            "      45/69      3.51G    0.01523    0.01017    0.01251          2        640: 100% 577/577 [01:52<00:00,  5.12it/s]\n",
            "                 Class     Images  Instances          P          R      mAP50   mAP50-95: 100% 73/73 [00:11<00:00,  6.51it/s]\n",
            "                   all        290        290      0.611      0.676      0.676      0.376\n",
            "\n",
            "      Epoch    GPU_mem   box_loss   obj_loss   cls_loss  Instances       Size\n",
            "      46/69      3.51G    0.01473   0.009954     0.0122          2        640: 100% 577/577 [01:51<00:00,  5.16it/s]\n",
            "                 Class     Images  Instances          P          R      mAP50   mAP50-95: 100% 73/73 [00:11<00:00,  6.51it/s]\n",
            "                   all        290        290      0.586      0.808       0.71      0.412\n",
            "\n",
            "      Epoch    GPU_mem   box_loss   obj_loss   cls_loss  Instances       Size\n",
            "      47/69      3.51G    0.01493    0.01001     0.0128          7        640: 100% 577/577 [01:53<00:00,  5.09it/s]\n",
            "                 Class     Images  Instances          P          R      mAP50   mAP50-95: 100% 73/73 [00:11<00:00,  6.47it/s]\n",
            "                   all        290        290      0.664      0.694      0.709      0.402\n",
            "\n",
            "      Epoch    GPU_mem   box_loss   obj_loss   cls_loss  Instances       Size\n",
            "      48/69      3.51G    0.01476    0.01001    0.01237          7        640: 100% 577/577 [01:51<00:00,  5.15it/s]\n",
            "                 Class     Images  Instances          P          R      mAP50   mAP50-95: 100% 73/73 [00:11<00:00,  6.48it/s]\n",
            "                   all        290        290      0.644      0.684      0.722      0.403\n",
            "\n",
            "      Epoch    GPU_mem   box_loss   obj_loss   cls_loss  Instances       Size\n",
            "      49/69      3.51G    0.01481    0.01017    0.01276          5        640: 100% 577/577 [01:52<00:00,  5.14it/s]\n",
            "                 Class     Images  Instances          P          R      mAP50   mAP50-95: 100% 73/73 [00:11<00:00,  6.53it/s]\n",
            "                   all        290        290      0.571      0.779      0.683      0.383\n",
            "\n",
            "      Epoch    GPU_mem   box_loss   obj_loss   cls_loss  Instances       Size\n",
            "      50/69      3.51G    0.01446    0.01023    0.01157          6        640: 100% 577/577 [01:51<00:00,  5.15it/s]\n",
            "                 Class     Images  Instances          P          R      mAP50   mAP50-95: 100% 73/73 [00:11<00:00,  6.52it/s]\n",
            "                   all        290        290      0.713      0.654       0.73      0.409\n",
            "\n",
            "      Epoch    GPU_mem   box_loss   obj_loss   cls_loss  Instances       Size\n",
            "      51/69      3.51G    0.01441   0.009621    0.01118          3        640: 100% 577/577 [01:52<00:00,  5.12it/s]\n",
            "                 Class     Images  Instances          P          R      mAP50   mAP50-95: 100% 73/73 [00:11<00:00,  6.49it/s]\n",
            "                   all        290        290      0.654      0.727      0.749      0.426\n",
            "\n",
            "      Epoch    GPU_mem   box_loss   obj_loss   cls_loss  Instances       Size\n",
            "      52/69      3.51G    0.01419    0.01022    0.01096          4        640: 100% 577/577 [01:53<00:00,  5.07it/s]\n",
            "                 Class     Images  Instances          P          R      mAP50   mAP50-95: 100% 73/73 [00:11<00:00,  6.48it/s]\n",
            "                   all        290        290      0.607      0.758      0.713       0.39\n",
            "\n",
            "      Epoch    GPU_mem   box_loss   obj_loss   cls_loss  Instances       Size\n",
            "      53/69      3.51G    0.01405   0.009767    0.01058          2        640: 100% 577/577 [01:53<00:00,  5.07it/s]\n",
            "                 Class     Images  Instances          P          R      mAP50   mAP50-95: 100% 73/73 [00:11<00:00,  6.47it/s]\n",
            "                   all        290        290      0.628      0.728      0.721      0.391\n",
            "\n",
            "      Epoch    GPU_mem   box_loss   obj_loss   cls_loss  Instances       Size\n",
            "      54/69      3.51G    0.01412   0.009923    0.01112          4        640: 100% 577/577 [01:54<00:00,  5.02it/s]\n",
            "                 Class     Images  Instances          P          R      mAP50   mAP50-95: 100% 73/73 [00:11<00:00,  6.45it/s]\n",
            "                   all        290        290      0.704      0.685      0.741       0.41\n",
            "\n",
            "      Epoch    GPU_mem   box_loss   obj_loss   cls_loss  Instances       Size\n",
            "      55/69      3.51G    0.01346   0.009576    0.01014          4        640: 100% 577/577 [01:54<00:00,  5.04it/s]\n",
            "                 Class     Images  Instances          P          R      mAP50   mAP50-95: 100% 73/73 [00:11<00:00,  6.50it/s]\n",
            "                   all        290        290      0.609      0.722      0.697      0.384\n",
            "\n",
            "      Epoch    GPU_mem   box_loss   obj_loss   cls_loss  Instances       Size\n",
            "      56/69      3.51G    0.01405   0.009535    0.01025          4        640: 100% 577/577 [01:54<00:00,  5.04it/s]\n",
            "                 Class     Images  Instances          P          R      mAP50   mAP50-95: 100% 73/73 [00:11<00:00,  6.48it/s]\n",
            "                   all        290        290      0.591       0.75       0.69       0.39\n",
            "\n",
            "      Epoch    GPU_mem   box_loss   obj_loss   cls_loss  Instances       Size\n",
            "      57/69      3.51G    0.01351   0.009153    0.00972          3        640: 100% 577/577 [01:54<00:00,  5.04it/s]\n",
            "                 Class     Images  Instances          P          R      mAP50   mAP50-95: 100% 73/73 [00:11<00:00,  6.47it/s]\n",
            "                   all        290        290       0.57      0.766      0.699      0.398\n",
            "\n",
            "      Epoch    GPU_mem   box_loss   obj_loss   cls_loss  Instances       Size\n",
            "      58/69      3.51G    0.01349   0.009349    0.01002          2        640: 100% 577/577 [01:53<00:00,  5.10it/s]\n",
            "                 Class     Images  Instances          P          R      mAP50   mAP50-95: 100% 73/73 [00:11<00:00,  6.49it/s]\n",
            "                   all        290        290      0.651      0.766      0.747      0.421\n",
            "\n",
            "      Epoch    GPU_mem   box_loss   obj_loss   cls_loss  Instances       Size\n",
            "      59/69      3.51G    0.01341   0.009345   0.009538          3        640: 100% 577/577 [01:54<00:00,  5.05it/s]\n",
            "                 Class     Images  Instances          P          R      mAP50   mAP50-95: 100% 73/73 [00:11<00:00,  6.49it/s]\n",
            "                   all        290        290      0.603       0.75      0.711      0.404\n",
            "\n",
            "      Epoch    GPU_mem   box_loss   obj_loss   cls_loss  Instances       Size\n",
            "      60/69      3.51G    0.01313   0.009121    0.00892          3        640: 100% 577/577 [01:53<00:00,  5.06it/s]\n",
            "                 Class     Images  Instances          P          R      mAP50   mAP50-95: 100% 73/73 [00:11<00:00,  6.52it/s]\n",
            "                   all        290        290      0.678      0.676       0.71      0.401\n",
            "\n",
            "      Epoch    GPU_mem   box_loss   obj_loss   cls_loss  Instances       Size\n",
            "      61/69      3.51G    0.01267   0.008807   0.008668          6        640: 100% 577/577 [01:53<00:00,  5.08it/s]\n",
            "                 Class     Images  Instances          P          R      mAP50   mAP50-95: 100% 73/73 [00:11<00:00,  6.46it/s]\n",
            "                   all        290        290      0.694      0.712      0.745      0.423\n",
            "\n",
            "      Epoch    GPU_mem   box_loss   obj_loss   cls_loss  Instances       Size\n",
            "      62/69      3.51G    0.01246   0.008761   0.008657          5        640: 100% 577/577 [01:53<00:00,  5.08it/s]\n",
            "                 Class     Images  Instances          P          R      mAP50   mAP50-95: 100% 73/73 [00:11<00:00,  6.49it/s]\n",
            "                   all        290        290      0.667      0.708      0.737       0.42\n",
            "\n",
            "      Epoch    GPU_mem   box_loss   obj_loss   cls_loss  Instances       Size\n",
            "      63/69      3.51G    0.01249   0.008803   0.008656          3        640: 100% 577/577 [01:54<00:00,  5.04it/s]\n",
            "                 Class     Images  Instances          P          R      mAP50   mAP50-95: 100% 73/73 [00:11<00:00,  6.51it/s]\n",
            "                   all        290        290       0.64      0.753       0.75      0.425\n",
            "\n",
            "      Epoch    GPU_mem   box_loss   obj_loss   cls_loss  Instances       Size\n",
            "      64/69      3.51G    0.01191   0.008608   0.007556          6        640:  59% 343/577 [01:06<00:44,  5.25it/s]"
          ]
        }
      ],
      "source": [
        "# Train YOLOv5s on COCO128 for 3 epochs\n",
        "!python train.py --img 640 --batch 2 --epochs 70 --data custom_data.yaml --weights yolov5x.pt --nosave --cache"
      ]
    },
    {
      "cell_type": "markdown",
      "metadata": {
        "id": "IEijrePND_2I"
      },
      "source": [
        "# Appendix"
      ]
    },
    {
      "cell_type": "code",
      "execution_count": null,
      "metadata": {
        "id": "GMusP4OAxFu6"
      },
      "outputs": [],
      "source": [
        "# YOLOv5 PyTorch HUB Inference (DetectionModels only)\n",
        "import torch\n",
        "\n",
        "model = torch.hub.load('ultralytics/yolov5', 'yolov5s-seg')  # yolov5n - yolov5x6 or custom\n",
        "im = 'https://ultralytics.com/images/zidane.jpg'  # file, Path, PIL.Image, OpenCV, nparray, list\n",
        "results = model(im)  # inference\n",
        "results.print()  # or .show(), .save(), .crop(), .pandas(), etc."
      ]
    }
  ],
  "metadata": {
    "accelerator": "GPU",
    "colab": {
      "provenance": []
    },
    "kernelspec": {
      "display_name": "Python 3 (ipykernel)",
      "language": "python",
      "name": "python3"
    },
    "language_info": {
      "codemirror_mode": {
        "name": "ipython",
        "version": 3
      },
      "file_extension": ".py",
      "mimetype": "text/x-python",
      "name": "python",
      "nbconvert_exporter": "python",
      "pygments_lexer": "ipython3",
      "version": "3.7.12"
    },
    "gpuClass": "standard"
  },
  "nbformat": 4,
  "nbformat_minor": 0
}